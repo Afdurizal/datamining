{
  "nbformat": 4,
  "nbformat_minor": 0,
  "metadata": {
    "colab": {
      "name": "Latihan7.ipynb",
      "provenance": [],
      "collapsed_sections": []
    },
    "kernelspec": {
      "name": "python3",
      "display_name": "Python 3"
    },
    "language_info": {
      "name": "python"
    }
  },
  "cells": [
    {
      "cell_type": "markdown",
      "metadata": {
        "id": "Nj_e0jrtCmWm"
      },
      "source": [
        "**Mengimpor Library yang diperlukan**"
      ]
    },
    {
      "cell_type": "code",
      "metadata": {
        "id": "rMlCusjxCU5X"
      },
      "source": [
        "from sklearn.tree import DecisionTreeClassifier\n",
        "from sklearn import datasets\n",
        "import matplotlib.pyplot as plt"
      ],
      "execution_count": 1,
      "outputs": []
    },
    {
      "cell_type": "markdown",
      "metadata": {
        "id": "KV9tDx_sCsCO"
      },
      "source": [
        "**Membaca Data Input**\n",
        "\n",
        "Sebagai ilustrasi, dataset yang digunakan di dalam program ini adalah dataset bunga IRIS yang bersumber pada data yang dipublikasikan oleh Fisher ( FIsher, 1950 ) yang tersedia di website UCI Machine Learning Repository"
      ]
    },
    {
      "cell_type": "code",
      "metadata": {
        "id": "etDpdgxcCsha"
      },
      "source": [
        "iris = datasets.load_iris()\n",
        "features = iris['data']\n",
        "target = iris['target']"
      ],
      "execution_count": 2,
      "outputs": []
    },
    {
      "cell_type": "markdown",
      "metadata": {
        "id": "OvME7mXpCtBn"
      },
      "source": [
        "**Membuat Objek Model Decision Tree**"
      ]
    },
    {
      "cell_type": "markdown",
      "metadata": {
        "id": "CsbV2QdvGHxV"
      },
      "source": [
        "Keterangan :\n",
        "\n",
        "\n",
        "*   **max_depth** = parameter bagi kedalaman maksimum dari decision tree. Jika **max_depth = None**, maka decision tree akan dibuat sampai seluruh data masuk ke dalam tree. Sedangkan jika **max_depth = k** ( k sebuah bilangan bulat ) maka kedalaman tree dibatasi sampai ke dalam k\n",
        "*   min_sample_split\n",
        "*   Item daftar\n",
        "*   Item daftar\n",
        "\n",
        "\n",
        "\n"
      ]
    },
    {
      "cell_type": "code",
      "metadata": {
        "id": "B78ZrU1sCtaI"
      },
      "source": [
        "decisiontree = DecisionTreeClassifier(random_state = 0, max_depth = None, \n",
        "                                      min_samples_split = 2, min_samples_leaf = 1,\n",
        "                                      min_weight_fraction_leaf = 0, max_leaf_nodes = None,\n",
        "                                      min_impurity_decrease = 0)"
      ],
      "execution_count": 3,
      "outputs": []
    },
    {
      "cell_type": "markdown",
      "metadata": {
        "id": "ZtE3MN2sCtuC"
      },
      "source": [
        "**Mentraining Decision Tree**"
      ]
    },
    {
      "cell_type": "code",
      "metadata": {
        "id": "rPOsg_rMCuNT"
      },
      "source": [
        "model = decisiontree.fit(features, target)"
      ],
      "execution_count": 4,
      "outputs": []
    },
    {
      "cell_type": "markdown",
      "metadata": {
        "id": "p2YSR2c9EZYr"
      },
      "source": [
        "**Membuat Prediksi**\n",
        "\n",
        "Pada tahap ini dilakukan pengambilan sampel observasi dan membuat prediksi. Sample yang diberikan adalah data dimensi kelopak.\n",
        "\n",
        "Fungsi **predict()** digunakan untuk memeriksa kelas yang dimilikinya.\n",
        "\n",
        "Fungsi **predict_proba** digunakan untuk memerikasa probabilitas kelas dari prediksi tersebut"
      ]
    },
    {
      "cell_type": "code",
      "metadata": {
        "id": "hezJAQ8lEZ1l",
        "colab": {
          "base_uri": "https://localhost:8080/"
        },
        "outputId": "2cf0348a-a6a4-4fee-f657-790af0de1e9b"
      },
      "source": [
        "observation = [[5, 4, 3, 2]]\n",
        "model.predict(observation)\n",
        "model.predict_proba(observation)"
      ],
      "execution_count": 6,
      "outputs": [
        {
          "output_type": "execute_result",
          "data": {
            "text/plain": [
              "array([[0., 1., 0.]])"
            ]
          },
          "metadata": {
            "tags": []
          },
          "execution_count": 6
        }
      ]
    },
    {
      "cell_type": "markdown",
      "metadata": {
        "id": "76WPz9tkEaLQ"
      },
      "source": [
        "**Membuat Grafik Visualisasi Decision Tree**"
      ]
    },
    {
      "cell_type": "code",
      "metadata": {
        "id": "SAKZSglEEamZ",
        "colab": {
          "base_uri": "https://localhost:8080/"
        },
        "outputId": "9c75094a-f3a5-4700-c1fe-2e17534dc3ac"
      },
      "source": [
        "import pydotplus\n",
        "from sklearn import tree\n",
        "\n",
        "dot_data = tree.export_graphviz(decisiontree, out_file = None, \n",
        "                                feature_names = iris[\"feature_names\"], \n",
        "                                class_names = iris[\"target_names\"])\n",
        "\n",
        "from IPython.display import Image\n",
        "\n",
        "graph = pydotplus.graph_from_dot_data(dot_data)\n",
        "Image(graph.create_png())\n",
        "graph.write_png(\"D:\\iris.png\")"
      ],
      "execution_count": 8,
      "outputs": [
        {
          "output_type": "execute_result",
          "data": {
            "text/plain": [
              "True"
            ]
          },
          "metadata": {
            "tags": []
          },
          "execution_count": 8
        }
      ]
    },
    {
      "cell_type": "markdown",
      "metadata": {
        "id": "KfMkCVduFRwv"
      },
      "source": [
        ""
      ]
    },
    {
      "cell_type": "code",
      "metadata": {
        "id": "mpbmB-8mFRPZ"
      },
      "source": [
        ""
      ],
      "execution_count": null,
      "outputs": []
    }
  ]
}